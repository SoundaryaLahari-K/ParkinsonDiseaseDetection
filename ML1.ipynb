{
 "cells": [
  {
   "cell_type": "code",
   "execution_count": 1,
   "metadata": {},
   "outputs": [
    {
     "name": "stdout",
     "output_type": "stream",
     "text": [
      "Accuracy of knn: 0.92\n",
      "Accuracy of dt: 0.92\n",
      "Accuracy of rf: 0.92\n",
      "Accuracy of et: 0.96\n",
      "Accuracy of svm: 0.94\n"
     ]
    }
   ],
   "source": [
    "import pandas as pd\n",
    "from sklearn.model_selection import train_test_split\n",
    "from sklearn.neighbors import KNeighborsClassifier\n",
    "from sklearn.tree import DecisionTreeClassifier\n",
    "from sklearn.ensemble import RandomForestClassifier\n",
    "from sklearn.ensemble import ExtraTreesClassifier\n",
    "from sklearn.svm import SVC\n",
    "from sklearn.metrics import accuracy_score\n",
    "from sklearn.preprocessing import StandardScaler\n",
    "\n",
    "# # Load the data from a CSV file in the folder\n",
    "# data = pd.read_csv('pd_speech_features.csv')\n",
    "\n",
    "# # Split the data into features and target\n",
    "# X = data.drop('class', axis=1)\n",
    "# y = data['class']\n",
    "data2=pd.read_csv('parkinsons.csv')\n",
    "\n",
    "X = data2.drop(['name','status'], axis=1)\n",
    "\n",
    "y = data2['status']\n",
    "# Split the data into training and test sets\n",
    "X_train, X_test, y_train, y_test = train_test_split(X, y, random_state=0)\n",
    "# Scale the data\n",
    "scaler = StandardScaler()\n",
    "X_train = scaler.fit_transform(X_train)\n",
    "X_test = scaler.transform(X_test)\n",
    "\n",
    "# Define the classifiers\n",
    "classifiers = [('knn', KNeighborsClassifier()),\n",
    "               ('dt', DecisionTreeClassifier()),\n",
    "               ('rf', RandomForestClassifier()),\n",
    "               ('et', ExtraTreesClassifier()),\n",
    "               ('svm', SVC())]\n",
    "\n",
    "# Train each classifier and calculate its accuracy on the test set\n",
    "for name, clf in classifiers:\n",
    "    clf.fit(X_train, y_train)\n",
    "    y_pred = clf.predict(X_test)\n",
    "    accuracy = accuracy_score(y_test, y_pred)\n",
    "    print(f'Accuracy of {name}: {accuracy:.2f}')"
   ]
  },
  {
   "cell_type": "code",
   "execution_count": 2,
   "metadata": {},
   "outputs": [
    {
     "name": "stdout",
     "output_type": "stream",
     "text": [
      "Voting Classifier Accuracy: 0.9183673469387755\n"
     ]
    }
   ],
   "source": [
    "#Voting Classifier\n",
    "from sklearn.ensemble import VotingClassifier\n",
    "\n",
    "\n",
    "base_models= [('knn', KNeighborsClassifier()), ('dt', DecisionTreeClassifier()), ('rf', RandomForestClassifier()),('et',ExtraTreesClassifier()),('svm',SVC())]\n",
    "voting_model = VotingClassifier(estimators=base_models)\n",
    "voting_model.fit(X_train, y_train)\n",
    "voting_pred = voting_model.predict(X_test)\n",
    "voting_accuracy = accuracy_score(y_test, voting_pred)\n",
    "print(\"Voting Classifier Accuracy:\", voting_accuracy)"
   ]
  },
  {
   "cell_type": "code",
   "execution_count": 3,
   "metadata": {},
   "outputs": [
    {
     "name": "stdout",
     "output_type": "stream",
     "text": [
      "Stacking Classifier Accuracy: 0.8979591836734694\n"
     ]
    }
   ],
   "source": [
    "from sklearn.ensemble import StackingClassifier\n",
    "\n",
    "\n",
    "stacking_model = StackingClassifier(estimators=base_models, final_estimator=ExtraTreesClassifier())\n",
    "stacking_model.fit(X_train, y_train)\n",
    "stacking_pred = stacking_model.predict(X_test)\n",
    "stacking_accuracy = accuracy_score(y_test, stacking_pred)\n",
    "print(\"Stacking Classifier Accuracy:\", stacking_accuracy)"
   ]
  }
 ],
 "metadata": {
  "kernelspec": {
   "display_name": "Python 3",
   "language": "python",
   "name": "python3"
  },
  "language_info": {
   "codemirror_mode": {
    "name": "ipython",
    "version": 3
   },
   "file_extension": ".py",
   "mimetype": "text/x-python",
   "name": "python",
   "nbconvert_exporter": "python",
   "pygments_lexer": "ipython3",
   "version": "3.11.0"
  },
  "orig_nbformat": 4
 },
 "nbformat": 4,
 "nbformat_minor": 2
}
